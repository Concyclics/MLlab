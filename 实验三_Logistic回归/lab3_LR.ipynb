{
 "cells": [
  {
   "cell_type": "markdown",
   "metadata": {},
   "source": [
    "##  Logistic Regression \n",
    "### 杨健\n",
    "首先，我们读入数据并转换为numpy格式"
   ]
  },
  {
   "cell_type": "code",
   "execution_count": 1,
   "metadata": {},
   "outputs": [],
   "source": [
    "from sklearn.datasets import load_svmlight_file\n",
    "import numpy as np\n",
    "from tqdm import tqdm\n",
    "import math\n",
    "import matplotlib.pyplot as plt\n",
    "\n",
    "data = load_svmlight_file(\"a9a.txt\", n_features=123)\n",
    "X_train = data[0].toarray()\n",
    "Y_train = data[1].reshape((data[1].shape[0],1))\n",
    "data1 = load_svmlight_file(\"a9a.t\", n_features=123)\n",
    "X_test = data1[0].toarray()\n",
    "Y_test = data1[1].reshape((data1[1].shape[0], 1))"
   ]
  },
  {
   "cell_type": "markdown",
   "metadata": {},
   "source": [
    "logistic regression 的 loss函数定义如下 \n",
    "$$ \\min \\mathcal{Loss}(W) = \\frac{1}{n} \\sum_{i=1}^n log(1+e^{-y_i W^T X_i})$$\n",
    "为了避免过拟合, 我们添加正则化项$\\frac{\\lambda}{2} \\parallel W \\parallel^2$ 来避免过拟合, 重写此等式.\n",
    "$$ \\min \\mathcal{J}(W) = \\frac{1}{n} \\sum_{i=1}^n log(1+e^{-y_i W^T X_i}) + \\frac{\\lambda}{2} \\parallel W \\parallel^2$$"
   ]
  },
  {
   "cell_type": "code",
   "execution_count": 2,
   "metadata": {},
   "outputs": [],
   "source": [
    "def calc_loss(X, Y, W):\n",
    "    loss = 0\n",
    "    for i in range(X.shape[0]):\n",
    "        Xi = X[i]\n",
    "        Yi = Y[i]\n",
    "        exp_ywx = math.exp(-Yi*W.T.dot(Xi))\n",
    "        loss = loss + math.log(1+exp_ywx)\n",
    "    loss = (1/X.shape[0])*loss\n",
    "    return loss"
   ]
  },
  {
   "cell_type": "markdown",
   "metadata": {},
   "source": [
    "Sigmod函数如下：\n",
    "$$\\mathcal{g} = \\frac{1}{1+e^{-Z}}$$"
   ]
  },
  {
   "cell_type": "code",
   "execution_count": 3,
   "metadata": {},
   "outputs": [],
   "source": [
    "def g_func(Z):\n",
    "    return 1/(1+math.exp(-Z))"
   ]
  },
  {
   "cell_type": "markdown",
   "metadata": {},
   "source": [
    "我们将阈值定为0.5, 如果 $\\mathcal{g}(W^T X_i) \\gt 0.5$ , 我们认为是正样本，否则为负."
   ]
  },
  {
   "cell_type": "code",
   "execution_count": 4,
   "metadata": {},
   "outputs": [],
   "source": [
    "def calc_validation(W):\n",
    "    match_count = 0\n",
    "    for i in range(X_test.shape[0]):\n",
    "        Z = W.T.dot(X_test[i])\n",
    "        f = g_func(Z)\n",
    "        if f > 0.5:\n",
    "            flag = 1\n",
    "        else:\n",
    "            flag = -1\n",
    "        if flag == Y_test[i][0]:\n",
    "            match_count = match_count + 1\n",
    "    return match_count/X_test.shape[0]"
   ]
  },
  {
   "cell_type": "markdown",
   "metadata": {},
   "source": [
    "梯度计算如下:\n",
    "$$  \\frac{\\partial \\mathcal{J}(W)}{\\partial W} = -\\frac{1}{n} \\sum_{i=1}^n \\frac{y_i X_i e^{-y_i W^T X_i}}{1+e^{-y_i W^T X_i}} + \\lambda W$$"
   ]
  },
  {
   "cell_type": "code",
   "execution_count": 5,
   "metadata": {},
   "outputs": [],
   "source": [
    "def calc_gradient(X, Y, W, lamda):\n",
    "    grad = 0\n",
    "    for i in range(X.shape[0]):\n",
    "        Xi = X[i]\n",
    "        Yi = Y[i]\n",
    "        exp_ywx = math.exp(-Yi*W.T.dot(Xi))\n",
    "        temp = (Yi*Xi*exp_ywx)/(1+exp_ywx)\n",
    "        grad = grad + temp\n",
    "    grad = -(1/X.shape[0])*grad\n",
    "    grad = grad.reshape(grad.shape[0], 1)\n",
    "    grad = grad + (lamda*W)\n",
    "    return grad"
   ]
  },
  {
   "cell_type": "markdown",
   "metadata": {},
   "source": [
    "我们使用随机梯度下降去拟合。 loss由训练集计算, 准确率由验证集计算。"
   ]
  },
  {
   "cell_type": "code",
   "execution_count": 6,
   "metadata": {},
   "outputs": [],
   "source": [
    "def Logistic_Regression(X, Y, learning_rate, lamda, epoch, batch):\n",
    "    loss = []\n",
    "    acc = []\n",
    "    W = np.random.rand(X.shape[1], 1)\n",
    "    for i in tqdm(range(epoch), desc=\"Training pass: \", leave=True):\n",
    "        bat = np.random.choice(X.shape[0], batch)\n",
    "        X_batch = X[bat]\n",
    "        Y_batch = Y[bat]\n",
    "        gradient = calc_gradient(X_batch, Y_batch, W, lamda)\n",
    "        W = W - learning_rate*gradient\n",
    "        loss.append(calc_loss(X, Y, W))\n",
    "        acc.append(calc_validation(W))\n",
    "    return W, loss, acc"
   ]
  },
  {
   "cell_type": "markdown",
   "metadata": {},
   "source": [
    "模型参数如下"
   ]
  },
  {
   "cell_type": "code",
   "execution_count": 7,
   "metadata": {},
   "outputs": [
    {
     "name": "stderr",
     "output_type": "stream",
     "text": [
      "Training pass: 100%|█████████████████████████████████████████████████████████████████| 200/200 [00:28<00:00,  6.95it/s]\n"
     ]
    },
    {
     "data": {
      "image/png": "[encoded data removed]",
      "text/plain": [
       "<Figure size 432x288 with 1 Axes>"
      ]
     },
     "metadata": {
      "needs_background": "light"
     },
     "output_type": "display_data"
    },
    {
     "data": {
      "image/png": "[encoded data removed]",
      "text/plain": [
       "<Figure size 432x288 with 1 Axes>"
      ]
     },
     "metadata": {
      "needs_background": "light"
     },
     "output_type": "display_data"
    }
   ],
   "source": [
    "W, loss, acc = Logistic_Regression(X_train, Y_train, 0.1, 0.01, 200, 30)\n",
    "\n",
    "plt.figure()\n",
    "plt.plot(acc)\n",
    "plt.title(\"LR SGD Accuracy\")\n",
    "plt.xlabel(\"Iteration\")\n",
    "plt.ylabel(\"Match Percent\")\n",
    "#plt.savefig('lab2_lr_sgd_acc.jpg')\n",
    "plt.show()\n",
    "plt.figure()\n",
    "plt.plot(loss)\n",
    "plt.title(\"LR SGD Loss\")\n",
    "plt.xlabel(\"Iteration\")\n",
    "plt.ylabel(\"Loss\")\n",
    "#plt.savefig('lab2_lr_sgd_loss.jpg')\n",
    "plt.show()"
   ]
  },
  {
   "cell_type": "markdown",
   "metadata": {},
   "source": [
    "Use Adam Optimization。"
   ]
  },
  {
   "cell_type": "code",
   "execution_count": 8,
   "metadata": {},
   "outputs": [
    {
     "name": "stderr",
     "output_type": "stream",
     "text": [
      "Training pass: 100%|█████████████████████████████████████████████████████████████████| 200/200 [00:29<00:00,  6.82it/s]\n"
     ]
    },
    {
     "data": {
      "image/png": "[encoded data removed]",
      "text/plain": [
       "<Figure size 432x288 with 1 Axes>"
      ]
     },
     "metadata": {
      "needs_background": "light"
     },
     "output_type": "display_data"
    },
    {
     "data": {
      "image/png": "[encoded data removed]",
      "text/plain": [
       "<Figure size 432x288 with 1 Axes>"
      ]
     },
     "metadata": {
      "needs_background": "light"
     },
     "output_type": "display_data"
    }
   ],
   "source": [
    "def Logistic_Regression_Adam(X, Y, learning_rate, lamda, epoch, batch, eps=1e-8, beta1=0.9, beta2=0.999):\n",
    "    loss = []\n",
    "    acc = []\n",
    "    m = 0\n",
    "    v = 0\n",
    "    W = np.random.rand(X.shape[1], 1)\n",
    "    for i in tqdm(range(epoch), desc=\"Training pass: \", leave=True):\n",
    "        bat = np.random.choice(X.shape[0], batch)\n",
    "        X_batch = X[bat]\n",
    "        Y_batch = Y[bat]\n",
    "        gradient = calc_gradient(X_batch, Y_batch, W, lamda)\n",
    "        m = beta1 * m + (1 - beta1) * gradient\n",
    "        v = beta2 * v + (1 - beta2) * (gradient ** 2)\n",
    "        W = W - learning_rate * m / (np.sqrt(v) + eps)\n",
    "        loss.append(calc_loss(X, Y, W))\n",
    "        acc.append(calc_validation(W))\n",
    "    return W, loss, acc\n",
    "W, loss, acc = Logistic_Regression_Adam(X_train, Y_train, 0.01, 0.01, 200, 30)\n",
    "plt.figure()\n",
    "plt.plot(acc)\n",
    "plt.title(\"LR Adam Accuracy\")\n",
    "plt.xlabel(\"Iteration\")\n",
    "plt.ylabel(\"Match Percent\")\n",
    "#plt.savefig('lab2_lr_adam_acc.jpg')\n",
    "plt.show()\n",
    "plt.figure()\n",
    "plt.plot(loss)\n",
    "plt.title(\"LR Adam Loss\")\n",
    "plt.xlabel(\"Iteration\")\n",
    "plt.ylabel(\"Loss\")\n",
    "#plt.savefig('lab2_lr_adam_loss.jpg')\n",
    "plt.show()"
   ]
  },
  {
   "cell_type": "code",
   "execution_count": null,
   "metadata": {},
   "outputs": [],
   "source": []
  }
 ],
 "metadata": {
  "kernelspec": {
   "display_name": "Python 3",
   "language": "python",
   "name": "python3"
  },
  "language_info": {
   "codemirror_mode": {
    "name": "ipython",
    "version": 3
   },
   "file_extension": ".py",
   "mimetype": "text/x-python",
   "name": "python",
   "nbconvert_exporter": "python",
   "pygments_lexer": "ipython3",
   "version": "3.7.4"
  }
 },
 "nbformat": 4,
 "nbformat_minor": 2
}
