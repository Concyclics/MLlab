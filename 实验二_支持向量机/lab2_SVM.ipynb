{
 "cells": [
  {
   "cell_type": "markdown",
   "metadata": {},
   "source": [
    "## 支持向量机 Support Vector Machine\n",
    "### 作者：杨健\n",
    "首先，导入数据并转换为numpy格式。"
   ]
  },
  {
   "cell_type": "code",
   "execution_count": 1,
   "metadata": {},
   "outputs": [],
   "source": [
    "from sklearn.datasets import load_svmlight_file\n",
    "import numpy as np\n",
    "from tqdm import tqdm\n",
    "import matplotlib.pyplot as plt\n",
    "\n",
    "data = load_svmlight_file(\"a9a.txt\", n_features=123)\n",
    "X_train = data[0].toarray()\n",
    "Y_train = data[1].reshape((data[1].shape[0],1))\n",
    "data1 = load_svmlight_file(\"a9a.t\", n_features=123)\n",
    "X_test = data1[0].toarray()\n",
    "Y_test = data1[1].reshape((data1[1].shape[0], 1))"
   ]
  },
  {
   "cell_type": "markdown",
   "metadata": {},
   "source": [
    "SVM loss定义如下:\n",
    "$$ \\min_{W, b} \\mathcal{L}(W, b)= \\frac{\\parallel W \\parallel^2}{2} + \\frac{C}{n} \\sum_{i=1}^n max(0, 1-y_i(W^T X_i + b))$$\n"
   ]
  },
  {
   "cell_type": "code",
   "execution_count": 2,
   "metadata": {},
   "outputs": [],
   "source": [
    "def calc_loss(X, Y, W, b, c):\n",
    "    loss = 0\n",
    "    for i in range(X.shape[0]):\n",
    "        Xi = X[i]\n",
    "        Yi = Y[i]\n",
    "        loss = loss + max(0, 1 - Yi*(W.T.dot(Xi) + b))\n",
    "    loss = (c/X.shape[0])*loss\n",
    "    loss = loss + 0.5*(np.linalg.norm(W)**2)\n",
    "    return loss"
   ]
  },
  {
   "cell_type": "markdown",
   "metadata": {},
   "source": [
    "为了检测有效性, 我们设置阈值为 0, 如果$\\mathcal{f}(W^T X_i+b) \\gt 0$ , 我们认为他是正样本，否则为负."
   ]
  },
  {
   "cell_type": "code",
   "execution_count": 3,
   "metadata": {},
   "outputs": [],
   "source": [
    "def calc_validation(W, b):\n",
    "    match_count = 0\n",
    "    for i in range(X_test.shape[0]):\n",
    "        Xi = X_test[i]\n",
    "        f = W.T.dot(Xi) + b\n",
    "        if f > 0:\n",
    "            flag = 1\n",
    "        else:\n",
    "            flag = -1\n",
    "        if flag == Y_test[i][0]:\n",
    "            match_count = match_count + 1\n",
    "    return match_count/X_test.shape[0]"
   ]
  },
  {
   "cell_type": "markdown",
   "metadata": {},
   "source": [
    "梯度计算如下:\n",
    "$$ \\frac{\\partial \\mathcal{L}(W, b)}{\\partial W} = \\begin{cases}\n",
    "-y_i X_i, & 1-y_i(W^T X_i + b) \\ge 0 \\\\\n",
    "0, &1-y_i(W^T X_i + b) < 0\n",
    "\\end{cases}$$\n",
    "\n",
    "\n",
    "$$ \\frac{\\partial \\mathcal{L}(W, b)}{\\partial b} = \\begin{cases}\n",
    "-y_i, & 1-y_i(W^T X_i + b) \\ge 0 \\\\\n",
    "0, &1-y_i(W^T X_i + b) < 0\n",
    "\\end{cases}$$"
   ]
  },
  {
   "cell_type": "code",
   "execution_count": 4,
   "metadata": {},
   "outputs": [],
   "source": [
    "def calc_gradient(X, Y, W, b, c):\n",
    "    grad_W = np.zeros((W.shape[0], ))\n",
    "    grad_b = 0\n",
    "    for i in range(X.shape[0]):\n",
    "        Xi = X[i]\n",
    "        Yi = Y[i]\n",
    "        if Yi*(W.T.dot(Xi) + b) <= 1:\n",
    "            grad_W = grad_W + (-Yi*Xi)\n",
    "            grad_b = grad_b + (-Yi)\n",
    "    grad_W = np.reshape(grad_W.shape[0], 1)\n",
    "    grad_W = W + (c/X.shape[0]) * grad_W\n",
    "    grad_b = (c/X.shape[0]) * grad_b\n",
    "    return grad_W, grad_b"
   ]
  },
  {
   "cell_type": "markdown",
   "metadata": {},
   "source": [
    "我们使用随机梯度下降去拟合。 loss由训练集计算, 准确率由验证集计算。"
   ]
  },
  {
   "cell_type": "code",
   "execution_count": 5,
   "metadata": {},
   "outputs": [],
   "source": [
    "def SVM_classifier(X, Y, c, epoch, batch, learning_rate):\n",
    "    loss = []\n",
    "    acc = []\n",
    "    W = np.random.rand(X.shape[1], 1)\n",
    "    b = 0\n",
    "    for i in tqdm(range(epoch), desc=\"Training pass: \", leave=True):\n",
    "        bat = np.random.choice(X.shape[0], batch)\n",
    "        X_batch = X[bat]\n",
    "        Y_batch = Y[bat]\n",
    "        gradient_W, gradient_b = calc_gradient(X_batch, Y_batch, W, b, c)\n",
    "        W = W - learning_rate * gradient_W\n",
    "        b = b - learning_rate * gradient_b\n",
    "        loss.append(calc_loss(X, Y, W, b, c))\n",
    "        acc.append(calc_validation(W, b))\n",
    "    return W, loss, acc"
   ]
  },
  {
   "cell_type": "markdown",
   "metadata": {},
   "source": [
    "我们训练的参数如下："
   ]
  },
  {
   "cell_type": "code",
   "execution_count": 6,
   "metadata": {},
   "outputs": [
    {
     "name": "stderr",
     "output_type": "stream",
     "text": [
      "Training pass: 100%|█████████████████████████████████████████████████████████████████| 100/100 [00:24<00:00,  4.04it/s]\n"
     ]
    },
    {
     "data": {
      "image/png": "[encoded data removed]",
      "text/plain": [
       "<Figure size 432x288 with 1 Axes>"
      ]
     },
     "metadata": {
      "needs_background": "light"
     },
     "output_type": "display_data"
    },
    {
     "data": {
      "image/png": "[encoded data removed]",
      "text/plain": [
       "<Figure size 432x288 with 1 Axes>"
      ]
     },
     "metadata": {
      "needs_background": "light"
     },
     "output_type": "display_data"
    }
   ],
   "source": [
    "W, loss, acc = SVM_classifier(X=X_train, Y=Y_train, c=0.001, epoch=100, batch=40, learning_rate=0.1)\n",
    "\n",
    "plt.figure()\n",
    "plt.plot(acc)\n",
    "plt.title(\"SVM SGD Accuracy\")\n",
    "plt.xlabel(\"Iteration\")\n",
    "plt.ylabel(\"Match Percent\")\n",
    "#plt.savefig('lab2_svm_sgd_acc.jpg')\n",
    "plt.show()\n",
    "plt.figure()\n",
    "plt.plot(loss)\n",
    "plt.title(\"SVM SGD Loss\")\n",
    "plt.xlabel(\"Iteration\")\n",
    "plt.ylabel(\"Loss\")\n",
    "#plt.savefig('lab2_svm_sgd_loss.jpg')\n",
    "plt.show()"
   ]
  },
  {
   "cell_type": "markdown",
   "metadata": {},
   "source": [
    "使用Adam优化器"
   ]
  },
  {
   "cell_type": "code",
   "execution_count": 7,
   "metadata": {},
   "outputs": [],
   "source": [
    "def SVM_classifier_Adam(X, Y, c, epoch, batch, learning_rate, eps=1e-8, beta1=0.9, beta2=0.999):\n",
    "    loss = []\n",
    "    acc = []\n",
    "    W = np.random.rand(X.shape[1], 1)\n",
    "    b = 0\n",
    "    mW = 0\n",
    "    vW = 0\n",
    "    mb = 0\n",
    "    vb = 0\n",
    "    for i in tqdm(range(epoch), desc=\"Training pass: \", leave=True):\n",
    "        bat = np.random.choice(X.shape[0], batch)\n",
    "        X_batch = X[bat]\n",
    "        Y_batch = Y[bat]\n",
    "        gradient_W, gradient_b = calc_gradient(X_batch, Y_batch, W, b, c)\n",
    "        mW = beta1 * mW + (1 - beta1) * gradient_W\n",
    "        vW = beta2 * vW + (1 - beta2) * (gradient_W ** 2)\n",
    "        W = W - learning_rate * mW / (np.sqrt(vW) + eps)\n",
    "        mb = beta1 * mb + (1 - beta1) * gradient_b\n",
    "        vb = beta2 * vb + (1 - beta2) * (gradient_b ** 2)\n",
    "        b = b - learning_rate * mb / (np.sqrt(vb) + eps)\n",
    "        loss.append(calc_loss(X, Y, W, b, c))\n",
    "        acc.append(calc_validation(W, b))\n",
    "    return W, loss, acc"
   ]
  },
  {
   "cell_type": "code",
   "execution_count": 8,
   "metadata": {},
   "outputs": [
    {
     "name": "stderr",
     "output_type": "stream",
     "text": [
      "Training pass: 100%|█████████████████████████████████████████████████████████████████| 100/100 [00:25<00:00,  3.93it/s]\n"
     ]
    },
    {
     "data": {
      "image/png": "[encoded data removed]",
      "text/plain": [
       "<Figure size 432x288 with 1 Axes>"
      ]
     },
     "metadata": {
      "needs_background": "light"
     },
     "output_type": "display_data"
    },
    {
     "data": {
      "image/png": "[encoded data removed]",
      "text/plain": [
       "<Figure size 432x288 with 1 Axes>"
      ]
     },
     "metadata": {
      "needs_background": "light"
     },
     "output_type": "display_data"
    }
   ],
   "source": [
    "W, loss, acc = SVM_classifier_Adam(X=X_train, Y=Y_train, c=0.001, epoch=100, batch=40, learning_rate=0.01)\n",
    "\n",
    "plt.figure()\n",
    "plt.plot(acc)\n",
    "plt.title(\"SVM Adam Accuracy\")\n",
    "plt.xlabel(\"Iteration\")\n",
    "plt.ylabel(\"Match Percent\")\n",
    "#plt.savefig('lab2_svm_adam_acc.jpg')\n",
    "plt.show()\n",
    "plt.figure()\n",
    "plt.plot(loss)\n",
    "plt.title(\"SVM Adam Loss\")\n",
    "plt.xlabel(\"Iteration\")\n",
    "plt.ylabel(\"Loss\")\n",
    "#plt.savefig('lab2_svm_adam_loss.jpg')\n",
    "plt.show()"
   ]
  },
  {
   "cell_type": "code",
   "execution_count": null,
   "metadata": {},
   "outputs": [],
   "source": []
  }
 ],
 "metadata": {
  "kernelspec": {
   "display_name": "Python 3",
   "language": "python",
   "name": "python3"
  },
  "language_info": {
   "codemirror_mode": {
    "name": "ipython",
    "version": 3
   },
   "file_extension": ".py",
   "mimetype": "text/x-python",
   "name": "python",
   "nbconvert_exporter": "python",
   "pygments_lexer": "ipython3",
   "version": "3.7.4"
  }
 },
 "nbformat": 4,
 "nbformat_minor": 2
}
